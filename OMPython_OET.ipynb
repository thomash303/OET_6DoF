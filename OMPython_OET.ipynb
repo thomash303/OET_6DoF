{
 "cells": [
  {
   "cell_type": "code",
   "execution_count": 1,
   "metadata": {},
   "outputs": [],
   "source": [
    "import OMPython\n",
    "\n",
    "from OMPython import OMCSessionZMQ\n",
    "from OMPython import ModelicaSystem\n",
    "\n",
    "omc = OMCSessionZMQ()\n"
   ]
  },
  {
   "cell_type": "code",
   "execution_count": 2,
   "metadata": {},
   "outputs": [],
   "source": [
    "import numpy as np\n",
    "%matplotlib inline\n",
    "import matplotlib.pyplot as plt\n",
    "import pandas as pd"
   ]
  },
  {
   "cell_type": "code",
   "execution_count": null,
   "metadata": {},
   "outputs": [],
   "source": [
    "model_path = 'c:/Users/thogan1/Documents/GitHub/OceanEngineeringToolbox/OET.mo'\n"
   ]
  },
  {
   "cell_type": "code",
   "execution_count": null,
   "metadata": {},
   "outputs": [
    {
     "name": "stdout",
     "output_type": "stream",
     "text": [
      "Notification: Automatically loaded package Modelica 4.0.0 due to uses annotation from OET.\n",
      "Notification: Automatically loaded package Complex 4.0.0 due to uses annotation from Modelica.\n",
      "Notification: Automatically loaded package ModelicaServices 4.0.0 due to uses annotation from Modelica.\n",
      "\n",
      "Warning: The model contains alias variables with redundant start and/or conflicting nominal values. It is recommended to resolve the conflicts, because otherwise the system could be hard to solve. To print the conflicting alias sets and the chosen candidates please use -d=aliasConflicts.\n",
      "Warning: The initial conditions are not fully specified. For more information set -d=initialization. In OMEdit Tools->Options->Simulation->Show additional information from the initialization process, in OMNotebook call setCommandLineOptions(\"-d=initialization\").\n",
      "Notification: Invalid unit expression 'm^2 s/rad'.\n",
      "\n"
     ]
    }
   ],
   "source": [
    "mod = ModelicaSystem(model_path, 'OET.Example.multibodyWEC')\n",
    "#mod = ModelicaSystem(model_path, 'OET.Experimental.pooker')"
   ]
  },
  {
   "cell_type": "code",
   "execution_count": 6,
   "metadata": {},
   "outputs": [],
   "source": [
    "mod.simulate()\n"
   ]
  },
  {
   "cell_type": "code",
   "execution_count": 7,
   "metadata": {},
   "outputs": [
    {
     "data": {
      "text/plain": [
       "array([[0.0000e+00, 5.0000e-02, 1.0000e-01, ..., 4.9995e+02, 5.0000e+02,\n",
       "        5.0000e+02]])"
      ]
     },
     "execution_count": 7,
     "metadata": {},
     "output_type": "execute_result"
    }
   ],
   "source": [
    "mod.getSolutions(\"time\")"
   ]
  },
  {
   "cell_type": "code",
   "execution_count": 44,
   "metadata": {},
   "outputs": [
    {
     "name": "stdout",
     "output_type": "stream",
     "text": [
      "Help on method convertMo2Fmu in module OMPython:\n",
      "\n",
      "convertMo2Fmu(\n",
      "    version='2.0',\n",
      "    fmuType='me_cs',\n",
      "    fileNamePrefix='<default>',\n",
      "    includeResources=True\n",
      ") method of OMPython.ModelicaSystem instance\n",
      "    This method is used to generate FMU from the given Modelica model. It creates \"modelName.fmu\" in the current working directory. It can be called:\n",
      "    with no arguments\n",
      "    with arguments of https://build.openmodelica.org/Documentation/OpenModelica.Scripting.translateModelFMU.html\n",
      "    usage\n",
      "    >>> convertMo2Fmu()\n",
      "    >>> convertMo2Fmu(version=\"2.0\", fmuType=\"me|cs|me_cs\", fileNamePrefix=\"<default>\", includeResources=true)\n",
      "\n"
     ]
    }
   ],
   "source": [
    "help(mod.convertMo2Fmu)"
   ]
  },
  {
   "cell_type": "code",
   "execution_count": 45,
   "metadata": {},
   "outputs": [
    {
     "data": {
      "text/plain": [
       "'C:/Users/thogan1/AppData/Local/Temp/tmp1vmghsjl/OET.Experimental.multibodyWEC_er.fmu'"
      ]
     },
     "execution_count": 45,
     "metadata": {},
     "output_type": "execute_result"
    }
   ],
   "source": [
    "mod.convertMo2Fmu(fmuType='me')"
   ]
  },
  {
   "cell_type": "code",
   "execution_count": 11,
   "metadata": {},
   "outputs": [
    {
     "data": {
      "text/html": [
       "<div>\n",
       "<style scoped>\n",
       "    .dataframe tbody tr th:only-of-type {\n",
       "        vertical-align: middle;\n",
       "    }\n",
       "\n",
       "    .dataframe tbody tr th {\n",
       "        vertical-align: top;\n",
       "    }\n",
       "\n",
       "    .dataframe thead th {\n",
       "        text-align: right;\n",
       "    }\n",
       "</style>\n",
       "<table border=\"1\" class=\"dataframe\">\n",
       "  <thead>\n",
       "    <tr style=\"text-align: right;\">\n",
       "      <th></th>\n",
       "      <th>name</th>\n",
       "      <th>changeable</th>\n",
       "      <th>description</th>\n",
       "      <th>variability</th>\n",
       "      <th>causality</th>\n",
       "      <th>alias</th>\n",
       "      <th>aliasvariable</th>\n",
       "      <th>start</th>\n",
       "      <th>min</th>\n",
       "      <th>max</th>\n",
       "      <th>unit</th>\n",
       "    </tr>\n",
       "  </thead>\n",
       "  <tbody>\n",
       "    <tr>\n",
       "      <th>0</th>\n",
       "      <td>hydrodynamicBody.bodyShape.body.phi[1]</td>\n",
       "      <td>false</td>\n",
       "      <td>Dummy or 3 angles to rotate world frame into f...</td>\n",
       "      <td>continuous</td>\n",
       "      <td>local</td>\n",
       "      <td>noAlias</td>\n",
       "      <td>None</td>\n",
       "      <td>None</td>\n",
       "      <td>None</td>\n",
       "      <td>None</td>\n",
       "      <td>rad</td>\n",
       "    </tr>\n",
       "    <tr>\n",
       "      <th>1</th>\n",
       "      <td>hydrodynamicBody.bodyShape.body.phi[2]</td>\n",
       "      <td>false</td>\n",
       "      <td>Dummy or 3 angles to rotate world frame into f...</td>\n",
       "      <td>continuous</td>\n",
       "      <td>local</td>\n",
       "      <td>noAlias</td>\n",
       "      <td>None</td>\n",
       "      <td>None</td>\n",
       "      <td>None</td>\n",
       "      <td>None</td>\n",
       "      <td>rad</td>\n",
       "    </tr>\n",
       "    <tr>\n",
       "      <th>2</th>\n",
       "      <td>hydrodynamicBody.bodyShape.body.phi[3]</td>\n",
       "      <td>false</td>\n",
       "      <td>Dummy or 3 angles to rotate world frame into f...</td>\n",
       "      <td>continuous</td>\n",
       "      <td>local</td>\n",
       "      <td>noAlias</td>\n",
       "      <td>None</td>\n",
       "      <td>None</td>\n",
       "      <td>None</td>\n",
       "      <td>None</td>\n",
       "      <td>rad</td>\n",
       "    </tr>\n",
       "    <tr>\n",
       "      <th>3</th>\n",
       "      <td>hydrodynamicBody.bodyShape.body.phi_d[1]</td>\n",
       "      <td>false</td>\n",
       "      <td>= der(phi)</td>\n",
       "      <td>continuous</td>\n",
       "      <td>local</td>\n",
       "      <td>noAlias</td>\n",
       "      <td>None</td>\n",
       "      <td>None</td>\n",
       "      <td>None</td>\n",
       "      <td>None</td>\n",
       "      <td>rad/s</td>\n",
       "    </tr>\n",
       "    <tr>\n",
       "      <th>4</th>\n",
       "      <td>hydrodynamicBody.bodyShape.body.phi_d[2]</td>\n",
       "      <td>false</td>\n",
       "      <td>= der(phi)</td>\n",
       "      <td>continuous</td>\n",
       "      <td>local</td>\n",
       "      <td>noAlias</td>\n",
       "      <td>None</td>\n",
       "      <td>None</td>\n",
       "      <td>None</td>\n",
       "      <td>None</td>\n",
       "      <td>rad/s</td>\n",
       "    </tr>\n",
       "    <tr>\n",
       "      <th>...</th>\n",
       "      <td>...</td>\n",
       "      <td>...</td>\n",
       "      <td>...</td>\n",
       "      <td>...</td>\n",
       "      <td>...</td>\n",
       "      <td>...</td>\n",
       "      <td>...</td>\n",
       "      <td>...</td>\n",
       "      <td>...</td>\n",
       "      <td>...</td>\n",
       "      <td>...</td>\n",
       "    </tr>\n",
       "    <tr>\n",
       "      <th>8242</th>\n",
       "      <td>world.z_arrowHead.shapeType</td>\n",
       "      <td>false</td>\n",
       "      <td>Type of shape (box, sphere, cylinder, pipecyli...</td>\n",
       "      <td>parameter</td>\n",
       "      <td>calculatedParameter</td>\n",
       "      <td>noAlias</td>\n",
       "      <td>None</td>\n",
       "      <td>cone</td>\n",
       "      <td>None</td>\n",
       "      <td>None</td>\n",
       "      <td>None</td>\n",
       "    </tr>\n",
       "    <tr>\n",
       "      <th>8243</th>\n",
       "      <td>world.z_arrowLine.shapeType</td>\n",
       "      <td>false</td>\n",
       "      <td>Type of shape (box, sphere, cylinder, pipecyli...</td>\n",
       "      <td>parameter</td>\n",
       "      <td>calculatedParameter</td>\n",
       "      <td>noAlias</td>\n",
       "      <td>None</td>\n",
       "      <td>cylinder</td>\n",
       "      <td>None</td>\n",
       "      <td>None</td>\n",
       "      <td>None</td>\n",
       "    </tr>\n",
       "    <tr>\n",
       "      <th>8244</th>\n",
       "      <td>world.z_label.cylinders[1].shapeType</td>\n",
       "      <td>false</td>\n",
       "      <td>Type of shape (box, sphere, cylinder, pipecyli...</td>\n",
       "      <td>parameter</td>\n",
       "      <td>calculatedParameter</td>\n",
       "      <td>noAlias</td>\n",
       "      <td>None</td>\n",
       "      <td>cylinder</td>\n",
       "      <td>None</td>\n",
       "      <td>None</td>\n",
       "      <td>None</td>\n",
       "    </tr>\n",
       "    <tr>\n",
       "      <th>8245</th>\n",
       "      <td>world.z_label.cylinders[2].shapeType</td>\n",
       "      <td>false</td>\n",
       "      <td>Type of shape (box, sphere, cylinder, pipecyli...</td>\n",
       "      <td>parameter</td>\n",
       "      <td>calculatedParameter</td>\n",
       "      <td>noAlias</td>\n",
       "      <td>None</td>\n",
       "      <td>cylinder</td>\n",
       "      <td>None</td>\n",
       "      <td>None</td>\n",
       "      <td>None</td>\n",
       "    </tr>\n",
       "    <tr>\n",
       "      <th>8246</th>\n",
       "      <td>world.z_label.cylinders[3].shapeType</td>\n",
       "      <td>false</td>\n",
       "      <td>Type of shape (box, sphere, cylinder, pipecyli...</td>\n",
       "      <td>parameter</td>\n",
       "      <td>calculatedParameter</td>\n",
       "      <td>noAlias</td>\n",
       "      <td>None</td>\n",
       "      <td>cylinder</td>\n",
       "      <td>None</td>\n",
       "      <td>None</td>\n",
       "      <td>None</td>\n",
       "    </tr>\n",
       "  </tbody>\n",
       "</table>\n",
       "<p>8247 rows × 11 columns</p>\n",
       "</div>"
      ],
      "text/plain": [
       "                                          name changeable  \\\n",
       "0       hydrodynamicBody.bodyShape.body.phi[1]      false   \n",
       "1       hydrodynamicBody.bodyShape.body.phi[2]      false   \n",
       "2       hydrodynamicBody.bodyShape.body.phi[3]      false   \n",
       "3     hydrodynamicBody.bodyShape.body.phi_d[1]      false   \n",
       "4     hydrodynamicBody.bodyShape.body.phi_d[2]      false   \n",
       "...                                        ...        ...   \n",
       "8242               world.z_arrowHead.shapeType      false   \n",
       "8243               world.z_arrowLine.shapeType      false   \n",
       "8244      world.z_label.cylinders[1].shapeType      false   \n",
       "8245      world.z_label.cylinders[2].shapeType      false   \n",
       "8246      world.z_label.cylinders[3].shapeType      false   \n",
       "\n",
       "                                            description variability  \\\n",
       "0     Dummy or 3 angles to rotate world frame into f...  continuous   \n",
       "1     Dummy or 3 angles to rotate world frame into f...  continuous   \n",
       "2     Dummy or 3 angles to rotate world frame into f...  continuous   \n",
       "3                                            = der(phi)  continuous   \n",
       "4                                            = der(phi)  continuous   \n",
       "...                                                 ...         ...   \n",
       "8242  Type of shape (box, sphere, cylinder, pipecyli...   parameter   \n",
       "8243  Type of shape (box, sphere, cylinder, pipecyli...   parameter   \n",
       "8244  Type of shape (box, sphere, cylinder, pipecyli...   parameter   \n",
       "8245  Type of shape (box, sphere, cylinder, pipecyli...   parameter   \n",
       "8246  Type of shape (box, sphere, cylinder, pipecyli...   parameter   \n",
       "\n",
       "                causality    alias aliasvariable     start   min   max   unit  \n",
       "0                   local  noAlias          None      None  None  None    rad  \n",
       "1                   local  noAlias          None      None  None  None    rad  \n",
       "2                   local  noAlias          None      None  None  None    rad  \n",
       "3                   local  noAlias          None      None  None  None  rad/s  \n",
       "4                   local  noAlias          None      None  None  None  rad/s  \n",
       "...                   ...      ...           ...       ...   ...   ...    ...  \n",
       "8242  calculatedParameter  noAlias          None      cone  None  None   None  \n",
       "8243  calculatedParameter  noAlias          None  cylinder  None  None   None  \n",
       "8244  calculatedParameter  noAlias          None  cylinder  None  None   None  \n",
       "8245  calculatedParameter  noAlias          None  cylinder  None  None   None  \n",
       "8246  calculatedParameter  noAlias          None  cylinder  None  None   None  \n",
       "\n",
       "[8247 rows x 11 columns]"
      ]
     },
     "execution_count": 11,
     "metadata": {},
     "output_type": "execute_result"
    }
   ],
   "source": [
    "sol = mod.getQuantities()\n",
    "pd.DataFrame(sol)"
   ]
  },
  {
   "cell_type": "code",
   "execution_count": 36,
   "metadata": {},
   "outputs": [],
   "source": [
    "xPos, time = mod.getSolutions(['hydrodynamicBody.bodyShape.body.r_0[1]','time'])\n"
   ]
  },
  {
   "cell_type": "code",
   "execution_count": 39,
   "metadata": {},
   "outputs": [
    {
     "data": {
      "image/png": "[encoded data removed]",
      "text/plain": [
       "<Figure size 640x480 with 1 Axes>"
      ]
     },
     "metadata": {},
     "output_type": "display_data"
    }
   ],
   "source": [
    "plt.plot(time, xPos)\n",
    "plt.show()"
   ]
  },
  {
   "cell_type": "code",
   "execution_count": 38,
   "metadata": {},
   "outputs": [
    {
     "name": "stdout",
     "output_type": "stream",
     "text": [
      "[0.0000e+00 5.0000e-02 1.0000e-01 ... 4.9995e+02 5.0000e+02 5.0000e+02]\n"
     ]
    }
   ],
   "source": [
    "print(time)"
   ]
  },
  {
   "cell_type": "code",
   "execution_count": 66,
   "metadata": {},
   "outputs": [
    {
     "ename": "FileNotFoundError",
     "evalue": "[Errno 2] No such file or directory: 'OET.Experimental.multibodyWEC_er.fmu'",
     "output_type": "error",
     "traceback": [
      "\u001b[1;31m---------------------------------------------------------------------------\u001b[0m",
      "\u001b[1;31mFileNotFoundError\u001b[0m                         Traceback (most recent call last)",
      "Cell \u001b[1;32mIn[66], line 3\u001b[0m\n\u001b[0;32m      1\u001b[0m \u001b[38;5;28;01mfrom\u001b[39;00m \u001b[38;5;21;01mfmpy\u001b[39;00m \u001b[38;5;28;01mimport\u001b[39;00m \u001b[38;5;241m*\u001b[39m\n\u001b[0;32m      2\u001b[0m fmu \u001b[38;5;241m=\u001b[39m \u001b[38;5;124m'\u001b[39m\u001b[38;5;124mOET.Experimental.multibodyWEC_er.fmu\u001b[39m\u001b[38;5;124m'\u001b[39m\n\u001b[1;32m----> 3\u001b[0m \u001b[43mdump\u001b[49m\u001b[43m(\u001b[49m\u001b[43mfmu\u001b[49m\u001b[43m)\u001b[49m\n",
      "File \u001b[1;32mc:\\Users\\thogan1\\Documents\\GitHub\\OET_6DoF\\.venv\\Lib\\site-packages\\fmpy\\__init__.py:230\u001b[0m, in \u001b[0;36mdump\u001b[1;34m(filename, causalities)\u001b[0m\n\u001b[0;32m    222\u001b[0m \u001b[38;5;250m\u001b[39m\u001b[38;5;124;03m\"\"\" Print the model information and variables of an FMU\u001b[39;00m\n\u001b[0;32m    223\u001b[0m \n\u001b[0;32m    224\u001b[0m \u001b[38;5;124;03mParameters:\u001b[39;00m\n\u001b[0;32m    225\u001b[0m \u001b[38;5;124;03m    filename     filename of the FMU\u001b[39;00m\n\u001b[0;32m    226\u001b[0m \u001b[38;5;124;03m    causalities  the causalities of the variables to include\u001b[39;00m\n\u001b[0;32m    227\u001b[0m \u001b[38;5;124;03m\"\"\"\u001b[39;00m\n\u001b[0;32m    229\u001b[0m \u001b[38;5;28;01mfrom\u001b[39;00m \u001b[38;5;21;01m.\u001b[39;00m\u001b[38;5;21;01mutil\u001b[39;00m \u001b[38;5;28;01mimport\u001b[39;00m fmu_info\n\u001b[1;32m--> 230\u001b[0m \u001b[38;5;28mprint\u001b[39m(\u001b[43mfmu_info\u001b[49m\u001b[43m(\u001b[49m\u001b[43mfilename\u001b[49m\u001b[38;5;241;43m=\u001b[39;49m\u001b[43mfilename\u001b[49m\u001b[43m,\u001b[49m\u001b[43m \u001b[49m\u001b[43mcausalities\u001b[49m\u001b[38;5;241;43m=\u001b[39;49m\u001b[43mcausalities\u001b[49m\u001b[43m)\u001b[49m)\n",
      "File \u001b[1;32mc:\\Users\\thogan1\\Documents\\GitHub\\OET_6DoF\\.venv\\Lib\\site-packages\\fmpy\\util.py:636\u001b[0m, in \u001b[0;36mfmu_info\u001b[1;34m(filename, causalities)\u001b[0m\n\u001b[0;32m    633\u001b[0m \u001b[38;5;28;01mfrom\u001b[39;00m \u001b[38;5;21;01m.\u001b[39;00m\u001b[38;5;21;01mmodel_description\u001b[39;00m \u001b[38;5;28;01mimport\u001b[39;00m read_model_description\n\u001b[0;32m    634\u001b[0m \u001b[38;5;28;01mfrom\u001b[39;00m \u001b[38;5;21;01m.\u001b[39;00m \u001b[38;5;28;01mimport\u001b[39;00m supported_platforms\n\u001b[1;32m--> 636\u001b[0m md \u001b[38;5;241m=\u001b[39m \u001b[43mread_model_description\u001b[49m\u001b[43m(\u001b[49m\u001b[43mfilename\u001b[49m\u001b[43m,\u001b[49m\u001b[43m \u001b[49m\u001b[43mvalidate\u001b[49m\u001b[38;5;241;43m=\u001b[39;49m\u001b[38;5;28;43;01mFalse\u001b[39;49;00m\u001b[43m)\u001b[49m\n\u001b[0;32m    637\u001b[0m platforms \u001b[38;5;241m=\u001b[39m supported_platforms(filename)\n\u001b[0;32m    639\u001b[0m fmi_types \u001b[38;5;241m=\u001b[39m []\n",
      "File \u001b[1;32mc:\\Users\\thogan1\\Documents\\GitHub\\OET_6DoF\\.venv\\Lib\\site-packages\\fmpy\\model_description.py:441\u001b[0m, in \u001b[0;36mread_model_description\u001b[1;34m(filename, validate, validate_variable_names, validate_model_structure)\u001b[0m\n\u001b[0;32m    439\u001b[0m     tree \u001b[38;5;241m=\u001b[39m etree\u001b[38;5;241m.\u001b[39mparse(filename)\n\u001b[0;32m    440\u001b[0m \u001b[38;5;28;01melse\u001b[39;00m:  \u001b[38;5;66;03m# FMU as path or file like object\u001b[39;00m\n\u001b[1;32m--> 441\u001b[0m     \u001b[38;5;28;01mwith\u001b[39;00m \u001b[43mzipfile\u001b[49m\u001b[38;5;241;43m.\u001b[39;49m\u001b[43mZipFile\u001b[49m\u001b[43m(\u001b[49m\u001b[43mfilename\u001b[49m\u001b[43m,\u001b[49m\u001b[43m \u001b[49m\u001b[38;5;124;43m'\u001b[39;49m\u001b[38;5;124;43mr\u001b[39;49m\u001b[38;5;124;43m'\u001b[39;49m\u001b[43m)\u001b[49m \u001b[38;5;28;01mas\u001b[39;00m zf:\n\u001b[0;32m    442\u001b[0m         xml \u001b[38;5;241m=\u001b[39m zf\u001b[38;5;241m.\u001b[39mopen(\u001b[38;5;124m'\u001b[39m\u001b[38;5;124mmodelDescription.xml\u001b[39m\u001b[38;5;124m'\u001b[39m)\n\u001b[0;32m    443\u001b[0m         tree \u001b[38;5;241m=\u001b[39m etree\u001b[38;5;241m.\u001b[39mparse(xml)\n",
      "File \u001b[1;32m~\\AppData\\Local\\Programs\\Python\\Python313\\Lib\\zipfile\\__init__.py:1362\u001b[0m, in \u001b[0;36mZipFile.__init__\u001b[1;34m(self, file, mode, compression, allowZip64, compresslevel, strict_timestamps, metadata_encoding)\u001b[0m\n\u001b[0;32m   1360\u001b[0m \u001b[38;5;28;01mwhile\u001b[39;00m \u001b[38;5;28;01mTrue\u001b[39;00m:\n\u001b[0;32m   1361\u001b[0m     \u001b[38;5;28;01mtry\u001b[39;00m:\n\u001b[1;32m-> 1362\u001b[0m         \u001b[38;5;28mself\u001b[39m\u001b[38;5;241m.\u001b[39mfp \u001b[38;5;241m=\u001b[39m \u001b[43mio\u001b[49m\u001b[38;5;241;43m.\u001b[39;49m\u001b[43mopen\u001b[49m\u001b[43m(\u001b[49m\u001b[43mfile\u001b[49m\u001b[43m,\u001b[49m\u001b[43m \u001b[49m\u001b[43mfilemode\u001b[49m\u001b[43m)\u001b[49m\n\u001b[0;32m   1363\u001b[0m     \u001b[38;5;28;01mexcept\u001b[39;00m \u001b[38;5;167;01mOSError\u001b[39;00m:\n\u001b[0;32m   1364\u001b[0m         \u001b[38;5;28;01mif\u001b[39;00m filemode \u001b[38;5;129;01min\u001b[39;00m modeDict:\n",
      "\u001b[1;31mFileNotFoundError\u001b[0m: [Errno 2] No such file or directory: 'OET.Experimental.multibodyWEC_er.fmu'"
     ]
    }
   ],
   "source": [
    "from fmpy import *\n",
    "fmu = 'OET.Experimental.multibodyWEC_er.fmu'\n",
    "dump(fmu)"
   ]
  },
  {
   "cell_type": "code",
   "execution_count": 69,
   "metadata": {},
   "outputs": [
    {
     "ename": "FileNotFoundError",
     "evalue": "[Errno 2] No such file or directory: 'multibodyWEC_er.fmu'",
     "output_type": "error",
     "traceback": [
      "\u001b[1;31m---------------------------------------------------------------------------\u001b[0m",
      "\u001b[1;31mFileNotFoundError\u001b[0m                         Traceback (most recent call last)",
      "Cell \u001b[1;32mIn[69], line 3\u001b[0m\n\u001b[0;32m      1\u001b[0m \u001b[38;5;28;01mimport\u001b[39;00m \u001b[38;5;21;01mfmpy\u001b[39;00m\n\u001b[0;32m      2\u001b[0m fmu \u001b[38;5;241m=\u001b[39m \u001b[38;5;124m'\u001b[39m\u001b[38;5;124mmultibodyWEC_er.fmu\u001b[39m\u001b[38;5;124m'\u001b[39m\n\u001b[1;32m----> 3\u001b[0m \u001b[43mdump\u001b[49m\u001b[43m(\u001b[49m\u001b[43mfmu\u001b[49m\u001b[43m)\u001b[49m\n",
      "File \u001b[1;32mc:\\Users\\thogan1\\Documents\\GitHub\\OET_6DoF\\.venv\\Lib\\site-packages\\fmpy\\__init__.py:230\u001b[0m, in \u001b[0;36mdump\u001b[1;34m(filename, causalities)\u001b[0m\n\u001b[0;32m    222\u001b[0m \u001b[38;5;250m\u001b[39m\u001b[38;5;124;03m\"\"\" Print the model information and variables of an FMU\u001b[39;00m\n\u001b[0;32m    223\u001b[0m \n\u001b[0;32m    224\u001b[0m \u001b[38;5;124;03mParameters:\u001b[39;00m\n\u001b[0;32m    225\u001b[0m \u001b[38;5;124;03m    filename     filename of the FMU\u001b[39;00m\n\u001b[0;32m    226\u001b[0m \u001b[38;5;124;03m    causalities  the causalities of the variables to include\u001b[39;00m\n\u001b[0;32m    227\u001b[0m \u001b[38;5;124;03m\"\"\"\u001b[39;00m\n\u001b[0;32m    229\u001b[0m \u001b[38;5;28;01mfrom\u001b[39;00m \u001b[38;5;21;01m.\u001b[39;00m\u001b[38;5;21;01mutil\u001b[39;00m \u001b[38;5;28;01mimport\u001b[39;00m fmu_info\n\u001b[1;32m--> 230\u001b[0m \u001b[38;5;28mprint\u001b[39m(\u001b[43mfmu_info\u001b[49m\u001b[43m(\u001b[49m\u001b[43mfilename\u001b[49m\u001b[38;5;241;43m=\u001b[39;49m\u001b[43mfilename\u001b[49m\u001b[43m,\u001b[49m\u001b[43m \u001b[49m\u001b[43mcausalities\u001b[49m\u001b[38;5;241;43m=\u001b[39;49m\u001b[43mcausalities\u001b[49m\u001b[43m)\u001b[49m)\n",
      "File \u001b[1;32mc:\\Users\\thogan1\\Documents\\GitHub\\OET_6DoF\\.venv\\Lib\\site-packages\\fmpy\\util.py:636\u001b[0m, in \u001b[0;36mfmu_info\u001b[1;34m(filename, causalities)\u001b[0m\n\u001b[0;32m    633\u001b[0m \u001b[38;5;28;01mfrom\u001b[39;00m \u001b[38;5;21;01m.\u001b[39;00m\u001b[38;5;21;01mmodel_description\u001b[39;00m \u001b[38;5;28;01mimport\u001b[39;00m read_model_description\n\u001b[0;32m    634\u001b[0m \u001b[38;5;28;01mfrom\u001b[39;00m \u001b[38;5;21;01m.\u001b[39;00m \u001b[38;5;28;01mimport\u001b[39;00m supported_platforms\n\u001b[1;32m--> 636\u001b[0m md \u001b[38;5;241m=\u001b[39m \u001b[43mread_model_description\u001b[49m\u001b[43m(\u001b[49m\u001b[43mfilename\u001b[49m\u001b[43m,\u001b[49m\u001b[43m \u001b[49m\u001b[43mvalidate\u001b[49m\u001b[38;5;241;43m=\u001b[39;49m\u001b[38;5;28;43;01mFalse\u001b[39;49;00m\u001b[43m)\u001b[49m\n\u001b[0;32m    637\u001b[0m platforms \u001b[38;5;241m=\u001b[39m supported_platforms(filename)\n\u001b[0;32m    639\u001b[0m fmi_types \u001b[38;5;241m=\u001b[39m []\n",
      "File \u001b[1;32mc:\\Users\\thogan1\\Documents\\GitHub\\OET_6DoF\\.venv\\Lib\\site-packages\\fmpy\\model_description.py:441\u001b[0m, in \u001b[0;36mread_model_description\u001b[1;34m(filename, validate, validate_variable_names, validate_model_structure)\u001b[0m\n\u001b[0;32m    439\u001b[0m     tree \u001b[38;5;241m=\u001b[39m etree\u001b[38;5;241m.\u001b[39mparse(filename)\n\u001b[0;32m    440\u001b[0m \u001b[38;5;28;01melse\u001b[39;00m:  \u001b[38;5;66;03m# FMU as path or file like object\u001b[39;00m\n\u001b[1;32m--> 441\u001b[0m     \u001b[38;5;28;01mwith\u001b[39;00m \u001b[43mzipfile\u001b[49m\u001b[38;5;241;43m.\u001b[39;49m\u001b[43mZipFile\u001b[49m\u001b[43m(\u001b[49m\u001b[43mfilename\u001b[49m\u001b[43m,\u001b[49m\u001b[43m \u001b[49m\u001b[38;5;124;43m'\u001b[39;49m\u001b[38;5;124;43mr\u001b[39;49m\u001b[38;5;124;43m'\u001b[39;49m\u001b[43m)\u001b[49m \u001b[38;5;28;01mas\u001b[39;00m zf:\n\u001b[0;32m    442\u001b[0m         xml \u001b[38;5;241m=\u001b[39m zf\u001b[38;5;241m.\u001b[39mopen(\u001b[38;5;124m'\u001b[39m\u001b[38;5;124mmodelDescription.xml\u001b[39m\u001b[38;5;124m'\u001b[39m)\n\u001b[0;32m    443\u001b[0m         tree \u001b[38;5;241m=\u001b[39m etree\u001b[38;5;241m.\u001b[39mparse(xml)\n",
      "File \u001b[1;32m~\\AppData\\Local\\Programs\\Python\\Python313\\Lib\\zipfile\\__init__.py:1362\u001b[0m, in \u001b[0;36mZipFile.__init__\u001b[1;34m(self, file, mode, compression, allowZip64, compresslevel, strict_timestamps, metadata_encoding)\u001b[0m\n\u001b[0;32m   1360\u001b[0m \u001b[38;5;28;01mwhile\u001b[39;00m \u001b[38;5;28;01mTrue\u001b[39;00m:\n\u001b[0;32m   1361\u001b[0m     \u001b[38;5;28;01mtry\u001b[39;00m:\n\u001b[1;32m-> 1362\u001b[0m         \u001b[38;5;28mself\u001b[39m\u001b[38;5;241m.\u001b[39mfp \u001b[38;5;241m=\u001b[39m \u001b[43mio\u001b[49m\u001b[38;5;241;43m.\u001b[39;49m\u001b[43mopen\u001b[49m\u001b[43m(\u001b[49m\u001b[43mfile\u001b[49m\u001b[43m,\u001b[49m\u001b[43m \u001b[49m\u001b[43mfilemode\u001b[49m\u001b[43m)\u001b[49m\n\u001b[0;32m   1363\u001b[0m     \u001b[38;5;28;01mexcept\u001b[39;00m \u001b[38;5;167;01mOSError\u001b[39;00m:\n\u001b[0;32m   1364\u001b[0m         \u001b[38;5;28;01mif\u001b[39;00m filemode \u001b[38;5;129;01min\u001b[39;00m modeDict:\n",
      "\u001b[1;31mFileNotFoundError\u001b[0m: [Errno 2] No such file or directory: 'multibodyWEC_er.fmu'"
     ]
    }
   ],
   "source": [
    "import fmpy\n",
    "fmu = 'multibodyWEC_er.fmu'\n",
    "dump(fmu)"
   ]
  },
  {
   "cell_type": "code",
   "execution_count": 67,
   "metadata": {},
   "outputs": [
    {
     "ename": "FileNotFoundError",
     "evalue": "[Errno 2] No such file or directory: 'OET.Experimental.multibodyWEC_er.fmu'",
     "output_type": "error",
     "traceback": [
      "\u001b[1;31m---------------------------------------------------------------------------\u001b[0m",
      "\u001b[1;31mFileNotFoundError\u001b[0m                         Traceback (most recent call last)",
      "Cell \u001b[1;32mIn[67], line 1\u001b[0m\n\u001b[1;32m----> 1\u001b[0m \u001b[43mfmpy\u001b[49m\u001b[38;5;241;43m.\u001b[39;49m\u001b[43msimulate_fmu\u001b[49m\u001b[43m(\u001b[49m\u001b[43mfmu\u001b[49m\u001b[43m)\u001b[49m\n",
      "File \u001b[1;32mc:\\Users\\thogan1\\Documents\\GitHub\\OET_6DoF\\.venv\\Lib\\site-packages\\fmpy\\simulation.py:655\u001b[0m, in \u001b[0;36msimulate_fmu\u001b[1;34m(filename, validate, start_time, stop_time, solver, step_size, relative_tolerance, output_interval, record_events, fmi_type, start_values, apply_default_start_values, input, output, timeout, debug_logging, visible, logger, fmi_call_logger, step_finished, model_description, fmu_instance, set_input_derivatives, remote_platform, early_return_allowed, use_event_mode, initialize, terminate, fmu_state, set_stop_time)\u001b[0m\n\u001b[0;32m    652\u001b[0m \u001b[38;5;28;01mfrom\u001b[39;00m \u001b[38;5;21;01mfmpy\u001b[39;00m\u001b[38;5;21;01m.\u001b[39;00m\u001b[38;5;21;01mmodel_description\u001b[39;00m \u001b[38;5;28;01mimport\u001b[39;00m read_model_description\n\u001b[0;32m    653\u001b[0m \u001b[38;5;28;01mfrom\u001b[39;00m \u001b[38;5;21;01mfmpy\u001b[39;00m\u001b[38;5;21;01m.\u001b[39;00m\u001b[38;5;21;01mutil\u001b[39;00m \u001b[38;5;28;01mimport\u001b[39;00m can_simulate\n\u001b[1;32m--> 655\u001b[0m platforms \u001b[38;5;241m=\u001b[39m \u001b[43msupported_platforms\u001b[49m\u001b[43m(\u001b[49m\u001b[43mfilename\u001b[49m\u001b[43m)\u001b[49m\n\u001b[0;32m    657\u001b[0m \u001b[38;5;28;01mif\u001b[39;00m fmu_instance \u001b[38;5;129;01mis\u001b[39;00m \u001b[38;5;28;01mNone\u001b[39;00m \u001b[38;5;129;01mand\u001b[39;00m platform \u001b[38;5;129;01mnot\u001b[39;00m \u001b[38;5;129;01min\u001b[39;00m platforms \u001b[38;5;129;01mand\u001b[39;00m remote_platform \u001b[38;5;129;01mis\u001b[39;00m \u001b[38;5;28;01mNone\u001b[39;00m:\n\u001b[0;32m    658\u001b[0m     \u001b[38;5;28;01mraise\u001b[39;00m \u001b[38;5;167;01mException\u001b[39;00m(\u001b[38;5;124mf\u001b[39m\u001b[38;5;124m\"\u001b[39m\u001b[38;5;124mThe current platform (\u001b[39m\u001b[38;5;132;01m{\u001b[39;00mplatform\u001b[38;5;132;01m}\u001b[39;00m\u001b[38;5;124m) is not supported by the FMU.\u001b[39m\u001b[38;5;124m\"\u001b[39m)\n",
      "File \u001b[1;32mc:\\Users\\thogan1\\Documents\\GitHub\\OET_6DoF\\.venv\\Lib\\site-packages\\fmpy\\__init__.py:93\u001b[0m, in \u001b[0;36msupported_platforms\u001b[1;34m(filename)\u001b[0m\n\u001b[0;32m     91\u001b[0m \u001b[38;5;28;01melse\u001b[39;00m:  \u001b[38;5;66;03m# FMU as path or file like object\u001b[39;00m\n\u001b[0;32m     92\u001b[0m     \u001b[38;5;28;01mimport\u001b[39;00m \u001b[38;5;21;01mzipfile\u001b[39;00m\n\u001b[1;32m---> 93\u001b[0m     \u001b[38;5;28;01mwith\u001b[39;00m \u001b[43mzipfile\u001b[49m\u001b[38;5;241;43m.\u001b[39;49m\u001b[43mZipFile\u001b[49m\u001b[43m(\u001b[49m\u001b[43mfilename\u001b[49m\u001b[43m,\u001b[49m\u001b[43m \u001b[49m\u001b[38;5;124;43m'\u001b[39;49m\u001b[38;5;124;43mr\u001b[39;49m\u001b[38;5;124;43m'\u001b[39;49m\u001b[43m)\u001b[49m \u001b[38;5;28;01mas\u001b[39;00m zf:\n\u001b[0;32m     94\u001b[0m         names \u001b[38;5;241m=\u001b[39m zf\u001b[38;5;241m.\u001b[39mnamelist()\n\u001b[0;32m     96\u001b[0m platforms \u001b[38;5;241m=\u001b[39m []\n",
      "File \u001b[1;32m~\\AppData\\Local\\Programs\\Python\\Python313\\Lib\\zipfile\\__init__.py:1362\u001b[0m, in \u001b[0;36mZipFile.__init__\u001b[1;34m(self, file, mode, compression, allowZip64, compresslevel, strict_timestamps, metadata_encoding)\u001b[0m\n\u001b[0;32m   1360\u001b[0m \u001b[38;5;28;01mwhile\u001b[39;00m \u001b[38;5;28;01mTrue\u001b[39;00m:\n\u001b[0;32m   1361\u001b[0m     \u001b[38;5;28;01mtry\u001b[39;00m:\n\u001b[1;32m-> 1362\u001b[0m         \u001b[38;5;28mself\u001b[39m\u001b[38;5;241m.\u001b[39mfp \u001b[38;5;241m=\u001b[39m \u001b[43mio\u001b[49m\u001b[38;5;241;43m.\u001b[39;49m\u001b[43mopen\u001b[49m\u001b[43m(\u001b[49m\u001b[43mfile\u001b[49m\u001b[43m,\u001b[49m\u001b[43m \u001b[49m\u001b[43mfilemode\u001b[49m\u001b[43m)\u001b[49m\n\u001b[0;32m   1363\u001b[0m     \u001b[38;5;28;01mexcept\u001b[39;00m \u001b[38;5;167;01mOSError\u001b[39;00m:\n\u001b[0;32m   1364\u001b[0m         \u001b[38;5;28;01mif\u001b[39;00m filemode \u001b[38;5;129;01min\u001b[39;00m modeDict:\n",
      "\u001b[1;31mFileNotFoundError\u001b[0m: [Errno 2] No such file or directory: 'OET.Experimental.multibodyWEC_er.fmu'"
     ]
    }
   ],
   "source": [
    "fmpy.simulate_fmu(fmu)"
   ]
  },
  {
   "cell_type": "code",
   "execution_count": null,
   "metadata": {},
   "outputs": [],
   "source": []
  }
 ],
 "metadata": {
  "kernelspec": {
   "display_name": ".venv",
   "language": "python",
   "name": "python3"
  },
  "language_info": {
   "codemirror_mode": {
    "name": "ipython",
    "version": 3
   },
   "file_extension": ".py",
   "mimetype": "text/x-python",
   "name": "python",
   "nbconvert_exporter": "python",
   "pygments_lexer": "ipython3",
   "version": "3.13.0"
  }
 },
 "nbformat": 4,
 "nbformat_minor": 2
}
